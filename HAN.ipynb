{
 "cells": [
  {
   "cell_type": "code",
   "execution_count": 26,
   "metadata": {},
   "outputs": [],
   "source": [
    "import torch\n",
    "import torchtext\n",
    "from torchtext import data\n",
    "from torchtext import datasets\n",
    "from torchtext.vocab import GloVe"
   ]
  },
  {
   "cell_type": "code",
   "execution_count": 2,
   "metadata": {},
   "outputs": [],
   "source": [
    "import random"
   ]
  },
  {
   "cell_type": "code",
   "execution_count": 7,
   "metadata": {},
   "outputs": [],
   "source": [
    "from tqdm import tqdm_notebook as tqdm"
   ]
  },
  {
   "cell_type": "code",
   "execution_count": 4,
   "metadata": {},
   "outputs": [],
   "source": [
    "SEED = 1234\n",
    "\n",
    "torch.manual_seed(SEED)\n",
    "torch.cuda.manual_seed(SEED)\n",
    "torch.backends.cudnn.deterministic = True"
   ]
  },
  {
   "cell_type": "code",
   "execution_count": 11,
   "metadata": {},
   "outputs": [],
   "source": [
    "import spacy\n",
    "nlp = spacy.load('en_core_web_sm')"
   ]
  },
  {
   "cell_type": "code",
   "execution_count": 16,
   "metadata": {},
   "outputs": [],
   "source": [
    "def tokenizer(input):\n",
    "    return [str(sent) for sent in nlp(input).sents]"
   ]
  },
  {
   "cell_type": "code",
   "execution_count": 17,
   "metadata": {},
   "outputs": [
    {
     "data": {
      "text/plain": [
       "['fat cat jumps.', 'Big dog runs']"
      ]
     },
     "execution_count": 17,
     "metadata": {},
     "output_type": "execute_result"
    }
   ],
   "source": [
    "tokenizer('fat cat jumps. Big dog runs')"
   ]
  },
  {
   "cell_type": "code",
   "execution_count": 18,
   "metadata": {},
   "outputs": [],
   "source": [
    "NESTED = data.Field(tokenize='spacy')\n",
    "TEXT = data.NestedField(NESTED, tokenize=tokenizer)\n",
    "LABEL = data.LabelField(dtype=torch.float)"
   ]
  },
  {
   "cell_type": "code",
   "execution_count": 20,
   "metadata": {
    "scrolled": true
   },
   "outputs": [
    {
     "data": {
      "application/vnd.jupyter.widget-view+json": {
       "model_id": "e2428769c6814f559988de25f71ebe88",
       "version_major": 2,
       "version_minor": 0
      },
      "text/plain": [
       "HBox(children=(IntProgress(value=0, max=2), HTML(value='')))"
      ]
     },
     "metadata": {},
     "output_type": "display_data"
    },
    {
     "name": "stdout",
     "output_type": "stream",
     "text": [
      "\n"
     ]
    }
   ],
   "source": [
    "# train_data, test_data = tqdm(datasets.IMDB.splits(TEXT, LABEL))"
   ]
  },
  {
   "cell_type": "code",
   "execution_count": 53,
   "metadata": {},
   "outputs": [],
   "source": [
    "import pickle\n",
    "\n",
    "with open('/homes/du113/scratch/han_data/imdb_train.pkl', 'wb') as f:\n",
    "    train_data = pickle.load(f)\n",
    "    \n",
    "with open('/homes/du113/scratch/han_data/imdb_test.pkl', 'wb') as f:\n",
    "    pickle.dump(list(test_data), f)"
   ]
  },
  {
   "cell_type": "code",
   "execution_count": 94,
   "metadata": {},
   "outputs": [],
   "source": [
    "with open('/homes/du113/scratch/han_data/imdb_train.pkl', 'rb') as f:\n",
    "    train_data_iter = iter(pickle.load(f))"
   ]
  },
  {
   "cell_type": "code",
   "execution_count": 98,
   "metadata": {},
   "outputs": [],
   "source": [
    "import jsonlines\n",
    "\n",
    "with jsonlines.open('/homes/du113/scratch/han_data/imdb_train.json', 'w') as writer:\n",
    "    writer.write_all([ex.__dict__ for ex in train_data.examples])"
   ]
  },
  {
   "cell_type": "code",
   "execution_count": 99,
   "metadata": {},
   "outputs": [],
   "source": [
    "with jsonlines.open('/homes/du113/scratch/han_data/imdb_test.json', 'w') as writer:\n",
    "    writer.write_all([ex.__dict__ for ex in test_data.examples])"
   ]
  },
  {
   "cell_type": "code",
   "execution_count": 97,
   "metadata": {},
   "outputs": [
    {
     "data": {
      "text/plain": [
       "{'text': [['This',\n",
       "   'is',\n",
       "   'a',\n",
       "   'totally',\n",
       "   'delightful',\n",
       "   'and',\n",
       "   'unexpected',\n",
       "   'film',\n",
       "   '.'],\n",
       "  ['You',\n",
       "   'start',\n",
       "   'by',\n",
       "   'following',\n",
       "   'a',\n",
       "   'young',\n",
       "   'person',\n",
       "   'who',\n",
       "   'hopes',\n",
       "   'to',\n",
       "   'get',\n",
       "   'into',\n",
       "   'the',\n",
       "   'qualifying',\n",
       "   'football',\n",
       "   'game',\n",
       "   'between',\n",
       "   'Bahrain',\n",
       "   'and',\n",
       "   'Iran',\n",
       "   '.'],\n",
       "  ['If',\n",
       "   'Iran',\n",
       "   'win',\n",
       "   'they',\n",
       "   'will',\n",
       "   'get',\n",
       "   'into',\n",
       "   'the',\n",
       "   '2006',\n",
       "   'World',\n",
       "   'Cup',\n",
       "   'in',\n",
       "   'Germany',\n",
       "   '.'],\n",
       "  ['The',\n",
       "   'problem',\n",
       "   'is',\n",
       "   'the',\n",
       "   'young',\n",
       "   'person',\n",
       "   'is',\n",
       "   'a',\n",
       "   'girl',\n",
       "   'and',\n",
       "   'girls',\n",
       "   '(',\n",
       "   'or',\n",
       "   'women',\n",
       "   'for',\n",
       "   'that',\n",
       "   'matter',\n",
       "   ')',\n",
       "   'are',\n",
       "   'not',\n",
       "   'allowed',\n",
       "   'into',\n",
       "   'football',\n",
       "   'matches',\n",
       "   'to',\n",
       "   '\"',\n",
       "   'sit',\n",
       "   'with',\n",
       "   'men',\n",
       "   '\"',\n",
       "   '.'],\n",
       "  ['What',\n",
       "   'follows',\n",
       "   'is',\n",
       "   'a',\n",
       "   'wonderful',\n",
       "   'comedy',\n",
       "   ',',\n",
       "   'played',\n",
       "   'with',\n",
       "   'consummate',\n",
       "   'skill',\n",
       "   'by',\n",
       "   'a',\n",
       "   'small',\n",
       "   'ensemble',\n",
       "   'cast',\n",
       "   '.'],\n",
       "  ['The',\n",
       "   'film',\n",
       "   'explores',\n",
       "   'the',\n",
       "   'absurdity',\n",
       "   'of',\n",
       "   'restrictions',\n",
       "   'on',\n",
       "   'the',\n",
       "   'freedom',\n",
       "   'of',\n",
       "   'women',\n",
       "   '(',\n",
       "   'and',\n",
       "   'for',\n",
       "   'that',\n",
       "   'matter',\n",
       "   'the',\n",
       "   'young',\n",
       "   'soldiers',\n",
       "   'who',\n",
       "   'have',\n",
       "   'to',\n",
       "   'corral',\n",
       "   'them',\n",
       "   ')',\n",
       "   '.'],\n",
       "  ['There',\n",
       "   'are',\n",
       "   'some',\n",
       "   'excellent',\n",
       "   'set',\n",
       "   'pieces',\n",
       "   ',',\n",
       "   'not',\n",
       "   'least',\n",
       "   'when',\n",
       "   'one',\n",
       "   'of',\n",
       "   'the',\n",
       "   'girls',\n",
       "   'must',\n",
       "   'go',\n",
       "   'to',\n",
       "   'the',\n",
       "   'toilet',\n",
       "   'and',\n",
       "   ',',\n",
       "   'of',\n",
       "   'course',\n",
       "   ',',\n",
       "   'the',\n",
       "   'stadium',\n",
       "   'has',\n",
       "   'no',\n",
       "   'toilets',\n",
       "   'for',\n",
       "   'women',\n",
       "   '.'],\n",
       "  ['The',\n",
       "   'camera',\n",
       "   'work',\n",
       "   'is',\n",
       "   'of',\n",
       "   'the',\n",
       "   'simplest',\n",
       "   'and',\n",
       "   'in',\n",
       "   'some',\n",
       "   'ways',\n",
       "   'this',\n",
       "   'story',\n",
       "   'could',\n",
       "   'have',\n",
       "   'been',\n",
       "   'told',\n",
       "   'as',\n",
       "   'a',\n",
       "   'stage',\n",
       "   'play',\n",
       "   '.'],\n",
       "  ['Yet',\n",
       "   'it',\n",
       "   'is',\n",
       "   'the',\n",
       "   'small',\n",
       "   'scale',\n",
       "   'that',\n",
       "   'gives',\n",
       "   'the',\n",
       "   'film',\n",
       "   'its',\n",
       "   'bite',\n",
       "   '.'],\n",
       "  ['Great', 'cinema', '?'],\n",
       "  ['No',\n",
       "   ',',\n",
       "   'probably',\n",
       "   'not',\n",
       "   ';',\n",
       "   'great',\n",
       "   'entertainment',\n",
       "   '-',\n",
       "   'for',\n",
       "   'sure',\n",
       "   '.']],\n",
       " 'label': 'pos'}"
      ]
     },
     "execution_count": 97,
     "metadata": {},
     "output_type": "execute_result"
    }
   ],
   "source": [
    "train_data.examples[0].__dict__"
   ]
  },
  {
   "cell_type": "code",
   "execution_count": 22,
   "metadata": {},
   "outputs": [
    {
     "name": "stdout",
     "output_type": "stream",
     "text": [
      "Number of training examples: 25000\n",
      "Number of testing examples: 25000\n"
     ]
    }
   ],
   "source": [
    "print(f'Number of training examples: {len(train_data)}')\n",
    "print(f'Number of testing examples: {len(test_data)}')"
   ]
  },
  {
   "cell_type": "code",
   "execution_count": 24,
   "metadata": {},
   "outputs": [
    {
     "name": "stdout",
     "output_type": "stream",
     "text": [
      "{'text': [['Even', 'though', 'I', 'saw', 'this', 'film', 'when', 'I', 'was', 'very', 'young', ',', 'I', 'already', 'knew', 'the', 'story', 'of', 'Wild', 'the', 'Thief', '-', 'Taker', 'and', 'Shepherd', 'who', 'famously', 'escaped', 'from', 'Newgate', 'prison.<br', '/><br'], ['/>Apart', 'from', 'the', 'liberty', 'taken', 'right', 'at', 'the', 'end', ',', 'the', 'film', 'more', 'or', 'less', 'faithfully', 'follows', 'the', 'true', 'story', '.'], ['The', 'temptation', 'to', 'bend', 'the', 'facts', 'which', 'is', 'the', 'hallmark', 'of', 'so', 'many', 'so', '-', 'called', 'historical', 'films', 'is', 'resisted', 'in', 'this', 'film', 'and', 'the', 'film', 'makers', 'must', 'be', 'praised', 'for', 'that.<br', '/><br'], ['/>Of'], ['the', 'performances', ',', 'There', 'is', 'scarcely', 'a', 'poor', 'performance', ',', 'and', 'Tommy', 'Steele', 'is', 'ideally', 'cast', '.'], ['Also', 'good', 'is', 'Stanley', 'Baker', 'as', 'the', 'Thief', '-', 'Taker', 'and', 'Alan', 'Badel', 'is', 'good', 'as', 'always.<br', '/><br'], ['/>Because'], ['the', 'film', 'sticks', 'to', 'the', 'facts', ',', 'it', 'makes', 'it', 'suitable', 'to', 'be', 'watched', 'by', 'all', 'the', 'family', '.']], 'label': 'pos'}\n"
     ]
    }
   ],
   "source": [
    "print(vars(test_data.examples[0]))"
   ]
  },
  {
   "cell_type": "code",
   "execution_count": 27,
   "metadata": {},
   "outputs": [],
   "source": [
    "vec = torchtext.vocab.Vectors('glove100d.txt', cache='/homes/du113/scratch')"
   ]
  },
  {
   "cell_type": "code",
   "execution_count": 29,
   "metadata": {},
   "outputs": [],
   "source": [
    "TEXT.build_vocab(train_data, test_data, vectors=vec)\n",
    "LABEL.build_vocab(train_data, test_data)"
   ]
  },
  {
   "cell_type": "code",
   "execution_count": 31,
   "metadata": {},
   "outputs": [
    {
     "name": "stdout",
     "output_type": "stream",
     "text": [
      "Unique tokens in NESTED vocabulary: 176835\n",
      "Unique tokens in LABEL vocabulary: 2\n"
     ]
    }
   ],
   "source": [
    "print(f\"Unique tokens in NESTED vocabulary: {len(TEXT.vocab)}\")\n",
    "print(f\"Unique tokens in LABEL vocabulary: {len(LABEL.vocab)}\")"
   ]
  },
  {
   "cell_type": "code",
   "execution_count": 32,
   "metadata": {},
   "outputs": [
    {
     "name": "stdout",
     "output_type": "stream",
     "text": [
      "['<unk>', '<pad>', 'the', ',', '.', 'a', 'and', 'of', 'to', 'is']\n",
      "defaultdict(<function _default_unk_index at 0x7f1b623442f0>, {'neg': 0, 'pos': 1})\n"
     ]
    }
   ],
   "source": [
    "print(TEXT.vocab.itos[:10])\n",
    "print(LABEL.vocab.stoi)"
   ]
  },
  {
   "cell_type": "code",
   "execution_count": 44,
   "metadata": {},
   "outputs": [],
   "source": [
    "BATCH_SIZE = 64\n",
    "\n",
    "device = torch.device('cuda:1' if torch.cuda.is_available() else 'cpu')\n",
    "\n",
    "train_iterator, test_iterator = data.BucketIterator.splits(\n",
    "    (train_data, test_data), \n",
    "    batch_size=BATCH_SIZE,\n",
    "    device=device)"
   ]
  },
  {
   "cell_type": "code",
   "execution_count": 35,
   "metadata": {},
   "outputs": [],
   "source": [
    "import torch.nn as nn\n",
    "import torch.nn.functional as F"
   ]
  },
  {
   "cell_type": "code",
   "execution_count": 66,
   "metadata": {},
   "outputs": [],
   "source": [
    "class Attention(nn.Module):\n",
    "    def __init__(self, input_dim, hidden_dim):\n",
    "        super(Attention, self).__init__()\n",
    "        \n",
    "        self.linear_in = nn.Linear(in_features=input_dim, out_features=hidden_dim)\n",
    "        self.context = nn.Linear(in_features=hidden_dim, out_features=1, bias=False)\n",
    "        \n",
    "    def forward(self, input):\n",
    "        # input has size [batch, seq_len, dimension]\n",
    "        input = self.linear_in(input)\n",
    "        scores = self.context(input)\n",
    "        # unnormalized score, dimensions [batch, seq_len, 1]\n",
    "        scores = F.softmax(scores, dim=1) # normalize across sequence dimension\n",
    "        input = input * scores\n",
    "        # [batch, seq_len, dimension]\n",
    "        return input.sum(dim=1)\n",
    "    \n",
    "        \n",
    "class HAN(nn.Module):\n",
    "    def __init__(self, vocab_size, emb_dim, word_dim, word_attn_dim, sent_dim, sent_attn_dim):\n",
    "        super(HAN, self).__init__()\n",
    "        self.embed_dim = emb_dim\n",
    "\n",
    "        self.embeds = nn.Embedding(vocab_size, emb_dim)\n",
    "\n",
    "        self.word_rnn = nn.GRU(input_size=emb_dim, hidden_size=word_dim, batch_first=True, bidirectional=True)\n",
    "        \n",
    "        self.word_attn = Attention(2*word_dim, word_attn_dim)\n",
    "        \n",
    "        self.sent_rnn = nn.GRU(input_size=2*word_dim, hidden_size=sent_dim, batch_first=True, bidirectional=True)\n",
    "        \n",
    "        self.sent_attn = Attention(2*sent_dim, sent_attn_dim)\n",
    "\n",
    "        self.classifier = nn.Linear(in_features=2*sent_dim, out_features=1)\n",
    "\n",
    "    def forward(self, input):\n",
    "        # input will have dimension [batch_size, num_sents, num_words]\n",
    "        batch_size, num_sents, num_words = input.shape\n",
    "\n",
    "        input = self.embeds(input)\n",
    "        \n",
    "        # shape: [batch_size, num_sents, num_words, emb_dim]\n",
    "\n",
    "        input = input.view(-1, num_words, self.embed_dim)\n",
    "        \n",
    "        word_out, _ = self.word_rnn(input)\n",
    "        \n",
    "        print(word_out.shape)\n",
    "\n",
    "        # shape: [batch_size x num_sents, num_words, 2*word_out]\n",
    "        \n",
    "        word_out = self.word_attn(word_out)\n",
    "        \n",
    "        print(word_out.shape)\n",
    "        \n",
    "        # shape: [batch_size x num_sents, 2*word_out]\n",
    "        \n",
    "        word_out = word_out.view(batch_size, num_sents, -1)\n",
    "        \n",
    "        print(word_out.shape)\n",
    "        \n",
    "        sent_out, _ = self.sent_rnn(word_out)\n",
    "        \n",
    "        sent_out = self.sent_attn(sent_out)\n",
    "        \n",
    "        # shape: [batch_size, 2*sent_out]\n",
    "        \n",
    "        return self.classifier(sent_out)"
   ]
  },
  {
   "cell_type": "code",
   "execution_count": 72,
   "metadata": {},
   "outputs": [],
   "source": [
    "INPUT_DIM = len(TEXT.vocab)\n",
    "EMBEDDING_DIM = 100\n",
    "WORD_DIM = 256\n",
    "WORD_ATTN_DIM = 256\n",
    "SENT_DIM = 128\n",
    "SENT_ATTN_DIM = 128\n",
    "\n",
    "model = HAN(INPUT_DIM, EMBEDDING_DIM, WORD_DIM, WORD_ATTN_DIM, SENT_DIM, SENT_ATTN_DIM)\n",
    "\n",
    "model.embeds = model.embeds.from_pretrained(TEXT.vocab.vectors)"
   ]
  },
  {
   "cell_type": "code",
   "execution_count": 46,
   "metadata": {},
   "outputs": [],
   "source": [
    "import torch.optim as optim\n",
    "\n",
    "optimizer = optim.SGD(model.parameters(), lr=1e-3)"
   ]
  },
  {
   "cell_type": "code",
   "execution_count": 73,
   "metadata": {},
   "outputs": [],
   "source": [
    "criterion = nn.BCEWithLogitsLoss()"
   ]
  },
  {
   "cell_type": "code",
   "execution_count": 74,
   "metadata": {},
   "outputs": [],
   "source": [
    "model = model.to(device)\n",
    "criterion = criterion.to(device)"
   ]
  },
  {
   "cell_type": "code",
   "execution_count": 42,
   "metadata": {},
   "outputs": [],
   "source": [
    "def binary_accuracy(preds, y):\n",
    "    \"\"\"\n",
    "    Returns accuracy per batch, i.e. if you get 8/10 right, this returns 0.8, NOT 8\n",
    "    \"\"\"\n",
    "\n",
    "    #round predictions to the closest integer\n",
    "    rounded_preds = torch.round(torch.sigmoid(preds))\n",
    "    correct = (rounded_preds == y).float() #convert into float for division \n",
    "    acc = correct.sum()/len(correct)\n",
    "    return acc\n",
    "\n",
    "def train(model, iterator, optimizer, criterion):\n",
    "    \n",
    "    epoch_loss = 0\n",
    "    epoch_acc = 0\n",
    "    \n",
    "    model.train()\n",
    "    \n",
    "    for batch in iterator:\n",
    "        \n",
    "        optimizer.zero_grad()\n",
    "                \n",
    "        predictions = model(batch.text).squeeze(1)\n",
    "        \n",
    "        loss = criterion(predictions, batch.label)\n",
    "        \n",
    "        acc = binary_accuracy(predictions, batch.label)\n",
    "        \n",
    "        loss.backward()\n",
    "        \n",
    "        optimizer.step()\n",
    "        \n",
    "        epoch_loss += loss.item()\n",
    "        epoch_acc += acc.item()\n",
    "        \n",
    "    return epoch_loss / len(iterator), epoch_acc / len(iterator)\n",
    "\n",
    "def evaluate(model, iterator, criterion):\n",
    "    \n",
    "    epoch_loss = 0\n",
    "    epoch_acc = 0\n",
    "    \n",
    "    model.eval()\n",
    "    \n",
    "    with torch.no_grad():\n",
    "    \n",
    "        for batch in iterator:\n",
    "\n",
    "            predictions = model(batch.text).squeeze(1)\n",
    "            \n",
    "            loss = criterion(predictions, batch.label)\n",
    "            \n",
    "            acc = binary_accuracy(predictions, batch.label)\n",
    "\n",
    "            epoch_loss += loss.item()\n",
    "            epoch_acc += acc.item()\n",
    "        \n",
    "    return epoch_loss / len(iterator), epoch_acc / len(iterator)"
   ]
  },
  {
   "cell_type": "code",
   "execution_count": 90,
   "metadata": {},
   "outputs": [
    {
     "ename": "RuntimeError",
     "evalue": "CUDA out of memory. Tried to allocate 1.41 GiB (GPU 1; 11.91 GiB total capacity; 10.92 GiB already allocated; 185.06 MiB free; 238.26 MiB cached)",
     "output_type": "error",
     "traceback": [
      "\u001b[0;31m---------------------------------------------------------------------------\u001b[0m",
      "\u001b[0;31mRuntimeError\u001b[0m                              Traceback (most recent call last)",
      "\u001b[0;32m<ipython-input-90-17fe78a088e1>\u001b[0m in \u001b[0;36m<module>\u001b[0;34m\u001b[0m\n\u001b[1;32m      3\u001b[0m \u001b[0;32mfor\u001b[0m \u001b[0mepoch\u001b[0m \u001b[0;32min\u001b[0m \u001b[0mrange\u001b[0m\u001b[0;34m(\u001b[0m\u001b[0mN_EPOCHS\u001b[0m\u001b[0;34m)\u001b[0m\u001b[0;34m:\u001b[0m\u001b[0;34m\u001b[0m\u001b[0;34m\u001b[0m\u001b[0m\n\u001b[1;32m      4\u001b[0m \u001b[0;34m\u001b[0m\u001b[0m\n\u001b[0;32m----> 5\u001b[0;31m     \u001b[0mtrain_loss\u001b[0m\u001b[0;34m,\u001b[0m \u001b[0mtrain_acc\u001b[0m \u001b[0;34m=\u001b[0m \u001b[0mtrain\u001b[0m\u001b[0;34m(\u001b[0m\u001b[0mmodel\u001b[0m\u001b[0;34m,\u001b[0m \u001b[0mtrain_iterator\u001b[0m\u001b[0;34m,\u001b[0m \u001b[0moptimizer\u001b[0m\u001b[0;34m,\u001b[0m \u001b[0mcriterion\u001b[0m\u001b[0;34m)\u001b[0m\u001b[0;34m\u001b[0m\u001b[0;34m\u001b[0m\u001b[0m\n\u001b[0m\u001b[1;32m      6\u001b[0m     \u001b[0mvalid_loss\u001b[0m\u001b[0;34m,\u001b[0m \u001b[0mvalid_acc\u001b[0m \u001b[0;34m=\u001b[0m \u001b[0mevaluate\u001b[0m\u001b[0;34m(\u001b[0m\u001b[0mmodel\u001b[0m\u001b[0;34m,\u001b[0m \u001b[0mvalid_iterator\u001b[0m\u001b[0;34m,\u001b[0m \u001b[0mcriterion\u001b[0m\u001b[0;34m)\u001b[0m\u001b[0;34m\u001b[0m\u001b[0;34m\u001b[0m\u001b[0m\n\u001b[1;32m      7\u001b[0m \u001b[0;34m\u001b[0m\u001b[0m\n",
      "\u001b[0;32m<ipython-input-42-7285123ebdd2>\u001b[0m in \u001b[0;36mtrain\u001b[0;34m(model, iterator, optimizer, criterion)\u001b[0m\n\u001b[1;32m     21\u001b[0m         \u001b[0moptimizer\u001b[0m\u001b[0;34m.\u001b[0m\u001b[0mzero_grad\u001b[0m\u001b[0;34m(\u001b[0m\u001b[0;34m)\u001b[0m\u001b[0;34m\u001b[0m\u001b[0;34m\u001b[0m\u001b[0m\n\u001b[1;32m     22\u001b[0m \u001b[0;34m\u001b[0m\u001b[0m\n\u001b[0;32m---> 23\u001b[0;31m         \u001b[0mpredictions\u001b[0m \u001b[0;34m=\u001b[0m \u001b[0mmodel\u001b[0m\u001b[0;34m(\u001b[0m\u001b[0mbatch\u001b[0m\u001b[0;34m.\u001b[0m\u001b[0mtext\u001b[0m\u001b[0;34m)\u001b[0m\u001b[0;34m.\u001b[0m\u001b[0msqueeze\u001b[0m\u001b[0;34m(\u001b[0m\u001b[0;36m1\u001b[0m\u001b[0;34m)\u001b[0m\u001b[0;34m\u001b[0m\u001b[0;34m\u001b[0m\u001b[0m\n\u001b[0m\u001b[1;32m     24\u001b[0m \u001b[0;34m\u001b[0m\u001b[0m\n\u001b[1;32m     25\u001b[0m         \u001b[0mloss\u001b[0m \u001b[0;34m=\u001b[0m \u001b[0mcriterion\u001b[0m\u001b[0;34m(\u001b[0m\u001b[0mpredictions\u001b[0m\u001b[0;34m,\u001b[0m \u001b[0mbatch\u001b[0m\u001b[0;34m.\u001b[0m\u001b[0mlabel\u001b[0m\u001b[0;34m)\u001b[0m\u001b[0;34m\u001b[0m\u001b[0;34m\u001b[0m\u001b[0m\n",
      "\u001b[0;32m~/scratch/miniconda2/envs/py3.6/lib/python3.6/site-packages/torch/nn/modules/module.py\u001b[0m in \u001b[0;36m__call__\u001b[0;34m(self, *input, **kwargs)\u001b[0m\n\u001b[1;32m    487\u001b[0m             \u001b[0mresult\u001b[0m \u001b[0;34m=\u001b[0m \u001b[0mself\u001b[0m\u001b[0;34m.\u001b[0m\u001b[0m_slow_forward\u001b[0m\u001b[0;34m(\u001b[0m\u001b[0;34m*\u001b[0m\u001b[0minput\u001b[0m\u001b[0;34m,\u001b[0m \u001b[0;34m**\u001b[0m\u001b[0mkwargs\u001b[0m\u001b[0;34m)\u001b[0m\u001b[0;34m\u001b[0m\u001b[0;34m\u001b[0m\u001b[0m\n\u001b[1;32m    488\u001b[0m         \u001b[0;32melse\u001b[0m\u001b[0;34m:\u001b[0m\u001b[0;34m\u001b[0m\u001b[0;34m\u001b[0m\u001b[0m\n\u001b[0;32m--> 489\u001b[0;31m             \u001b[0mresult\u001b[0m \u001b[0;34m=\u001b[0m \u001b[0mself\u001b[0m\u001b[0;34m.\u001b[0m\u001b[0mforward\u001b[0m\u001b[0;34m(\u001b[0m\u001b[0;34m*\u001b[0m\u001b[0minput\u001b[0m\u001b[0;34m,\u001b[0m \u001b[0;34m**\u001b[0m\u001b[0mkwargs\u001b[0m\u001b[0;34m)\u001b[0m\u001b[0;34m\u001b[0m\u001b[0;34m\u001b[0m\u001b[0m\n\u001b[0m\u001b[1;32m    490\u001b[0m         \u001b[0;32mfor\u001b[0m \u001b[0mhook\u001b[0m \u001b[0;32min\u001b[0m \u001b[0mself\u001b[0m\u001b[0;34m.\u001b[0m\u001b[0m_forward_hooks\u001b[0m\u001b[0;34m.\u001b[0m\u001b[0mvalues\u001b[0m\u001b[0;34m(\u001b[0m\u001b[0;34m)\u001b[0m\u001b[0;34m:\u001b[0m\u001b[0;34m\u001b[0m\u001b[0;34m\u001b[0m\u001b[0m\n\u001b[1;32m    491\u001b[0m             \u001b[0mhook_result\u001b[0m \u001b[0;34m=\u001b[0m \u001b[0mhook\u001b[0m\u001b[0;34m(\u001b[0m\u001b[0mself\u001b[0m\u001b[0;34m,\u001b[0m \u001b[0minput\u001b[0m\u001b[0;34m,\u001b[0m \u001b[0mresult\u001b[0m\u001b[0;34m)\u001b[0m\u001b[0;34m\u001b[0m\u001b[0;34m\u001b[0m\u001b[0m\n",
      "\u001b[0;32m<ipython-input-66-30a1c98ceef8>\u001b[0m in \u001b[0;36mforward\u001b[0;34m(self, input)\u001b[0m\n\u001b[1;32m     44\u001b[0m         \u001b[0minput\u001b[0m \u001b[0;34m=\u001b[0m \u001b[0minput\u001b[0m\u001b[0;34m.\u001b[0m\u001b[0mview\u001b[0m\u001b[0;34m(\u001b[0m\u001b[0;34m-\u001b[0m\u001b[0;36m1\u001b[0m\u001b[0;34m,\u001b[0m \u001b[0mnum_words\u001b[0m\u001b[0;34m,\u001b[0m \u001b[0mself\u001b[0m\u001b[0;34m.\u001b[0m\u001b[0membed_dim\u001b[0m\u001b[0;34m)\u001b[0m\u001b[0;34m\u001b[0m\u001b[0;34m\u001b[0m\u001b[0m\n\u001b[1;32m     45\u001b[0m \u001b[0;34m\u001b[0m\u001b[0m\n\u001b[0;32m---> 46\u001b[0;31m         \u001b[0mword_out\u001b[0m\u001b[0;34m,\u001b[0m \u001b[0m_\u001b[0m \u001b[0;34m=\u001b[0m \u001b[0mself\u001b[0m\u001b[0;34m.\u001b[0m\u001b[0mword_rnn\u001b[0m\u001b[0;34m(\u001b[0m\u001b[0minput\u001b[0m\u001b[0;34m)\u001b[0m\u001b[0;34m\u001b[0m\u001b[0;34m\u001b[0m\u001b[0m\n\u001b[0m\u001b[1;32m     47\u001b[0m \u001b[0;34m\u001b[0m\u001b[0m\n\u001b[1;32m     48\u001b[0m         \u001b[0mprint\u001b[0m\u001b[0;34m(\u001b[0m\u001b[0mword_out\u001b[0m\u001b[0;34m.\u001b[0m\u001b[0mshape\u001b[0m\u001b[0;34m)\u001b[0m\u001b[0;34m\u001b[0m\u001b[0;34m\u001b[0m\u001b[0m\n",
      "\u001b[0;32m~/scratch/miniconda2/envs/py3.6/lib/python3.6/site-packages/torch/nn/modules/module.py\u001b[0m in \u001b[0;36m__call__\u001b[0;34m(self, *input, **kwargs)\u001b[0m\n\u001b[1;32m    487\u001b[0m             \u001b[0mresult\u001b[0m \u001b[0;34m=\u001b[0m \u001b[0mself\u001b[0m\u001b[0;34m.\u001b[0m\u001b[0m_slow_forward\u001b[0m\u001b[0;34m(\u001b[0m\u001b[0;34m*\u001b[0m\u001b[0minput\u001b[0m\u001b[0;34m,\u001b[0m \u001b[0;34m**\u001b[0m\u001b[0mkwargs\u001b[0m\u001b[0;34m)\u001b[0m\u001b[0;34m\u001b[0m\u001b[0;34m\u001b[0m\u001b[0m\n\u001b[1;32m    488\u001b[0m         \u001b[0;32melse\u001b[0m\u001b[0;34m:\u001b[0m\u001b[0;34m\u001b[0m\u001b[0;34m\u001b[0m\u001b[0m\n\u001b[0;32m--> 489\u001b[0;31m             \u001b[0mresult\u001b[0m \u001b[0;34m=\u001b[0m \u001b[0mself\u001b[0m\u001b[0;34m.\u001b[0m\u001b[0mforward\u001b[0m\u001b[0;34m(\u001b[0m\u001b[0;34m*\u001b[0m\u001b[0minput\u001b[0m\u001b[0;34m,\u001b[0m \u001b[0;34m**\u001b[0m\u001b[0mkwargs\u001b[0m\u001b[0;34m)\u001b[0m\u001b[0;34m\u001b[0m\u001b[0;34m\u001b[0m\u001b[0m\n\u001b[0m\u001b[1;32m    490\u001b[0m         \u001b[0;32mfor\u001b[0m \u001b[0mhook\u001b[0m \u001b[0;32min\u001b[0m \u001b[0mself\u001b[0m\u001b[0;34m.\u001b[0m\u001b[0m_forward_hooks\u001b[0m\u001b[0;34m.\u001b[0m\u001b[0mvalues\u001b[0m\u001b[0;34m(\u001b[0m\u001b[0;34m)\u001b[0m\u001b[0;34m:\u001b[0m\u001b[0;34m\u001b[0m\u001b[0;34m\u001b[0m\u001b[0m\n\u001b[1;32m    491\u001b[0m             \u001b[0mhook_result\u001b[0m \u001b[0;34m=\u001b[0m \u001b[0mhook\u001b[0m\u001b[0;34m(\u001b[0m\u001b[0mself\u001b[0m\u001b[0;34m,\u001b[0m \u001b[0minput\u001b[0m\u001b[0;34m,\u001b[0m \u001b[0mresult\u001b[0m\u001b[0;34m)\u001b[0m\u001b[0;34m\u001b[0m\u001b[0;34m\u001b[0m\u001b[0m\n",
      "\u001b[0;32m~/scratch/miniconda2/envs/py3.6/lib/python3.6/site-packages/torch/nn/modules/rnn.py\u001b[0m in \u001b[0;36mforward\u001b[0;34m(self, input, hx)\u001b[0m\n\u001b[1;32m    177\u001b[0m         \u001b[0;32mif\u001b[0m \u001b[0mbatch_sizes\u001b[0m \u001b[0;32mis\u001b[0m \u001b[0;32mNone\u001b[0m\u001b[0;34m:\u001b[0m\u001b[0;34m\u001b[0m\u001b[0;34m\u001b[0m\u001b[0m\n\u001b[1;32m    178\u001b[0m             result = _impl(input, hx, self._flat_weights, self.bias, self.num_layers,\n\u001b[0;32m--> 179\u001b[0;31m                            self.dropout, self.training, self.bidirectional, self.batch_first)\n\u001b[0m\u001b[1;32m    180\u001b[0m         \u001b[0;32melse\u001b[0m\u001b[0;34m:\u001b[0m\u001b[0;34m\u001b[0m\u001b[0;34m\u001b[0m\u001b[0m\n\u001b[1;32m    181\u001b[0m             result = _impl(input, batch_sizes, hx, self._flat_weights, self.bias,\n",
      "\u001b[0;31mRuntimeError\u001b[0m: CUDA out of memory. Tried to allocate 1.41 GiB (GPU 1; 11.91 GiB total capacity; 10.92 GiB already allocated; 185.06 MiB free; 238.26 MiB cached)"
     ]
    }
   ],
   "source": [
    "N_EPOCHS = 5\n",
    "\n",
    "for epoch in range(N_EPOCHS):\n",
    "\n",
    "    train_loss, train_acc = train(model, train_iterator, optimizer, criterion)\n",
    "    valid_loss, valid_acc = evaluate(model, valid_iterator, criterion)\n",
    "    \n",
    "    print(f'| Epoch: {epoch+1:02} | Train Loss: {train_loss:.3f} | Train Acc: {train_acc*100:.2f}% | Val. Loss: {valid_loss:.3f} | Val. Acc: {valid_acc*100:.2f}% |')"
   ]
  },
  {
   "cell_type": "code",
   "execution_count": 92,
   "metadata": {},
   "outputs": [],
   "source": [
    "torch.cuda.empty_cache()"
   ]
  },
  {
   "cell_type": "code",
   "execution_count": 91,
   "metadata": {},
   "outputs": [],
   "source": [
    "del train_iterator\n",
    "del test_iterator\n",
    "del model\n",
    "del criterion"
   ]
  },
  {
   "cell_type": "code",
   "execution_count": 93,
   "metadata": {},
   "outputs": [],
   "source": [
    "del optimizer"
   ]
  }
 ],
 "metadata": {
  "kernelspec": {
   "display_name": "Python 3",
   "language": "python",
   "name": "python3"
  },
  "language_info": {
   "codemirror_mode": {
    "name": "ipython",
    "version": 3
   },
   "file_extension": ".py",
   "mimetype": "text/x-python",
   "name": "python",
   "nbconvert_exporter": "python",
   "pygments_lexer": "ipython3",
   "version": "3.6.7"
  }
 },
 "nbformat": 4,
 "nbformat_minor": 2
}
